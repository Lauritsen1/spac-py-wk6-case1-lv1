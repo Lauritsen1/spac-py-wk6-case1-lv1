{
 "cells": [
  {
   "cell_type": "code",
   "execution_count": 31,
   "metadata": {},
   "outputs": [],
   "source": [
    "import matplotlib.pyplot as plt\n",
    "import pandas as pd\n",
    "import seaborn as sns"
   ]
  },
  {
   "cell_type": "code",
   "execution_count": 32,
   "metadata": {},
   "outputs": [],
   "source": [
    "sns.set_theme(style='darkgrid')"
   ]
  },
  {
   "cell_type": "code",
   "execution_count": 33,
   "metadata": {},
   "outputs": [
    {
     "data": {
      "text/html": [
       "<div>\n",
       "<style scoped>\n",
       "    .dataframe tbody tr th:only-of-type {\n",
       "        vertical-align: middle;\n",
       "    }\n",
       "\n",
       "    .dataframe tbody tr th {\n",
       "        vertical-align: top;\n",
       "    }\n",
       "\n",
       "    .dataframe thead th {\n",
       "        text-align: right;\n",
       "    }\n",
       "</style>\n",
       "<table border=\"1\" class=\"dataframe\">\n",
       "  <thead>\n",
       "    <tr style=\"text-align: right;\">\n",
       "      <th></th>\n",
       "      <th>Product</th>\n",
       "      <th>Category</th>\n",
       "      <th>Size</th>\n",
       "      <th>Units Sold</th>\n",
       "      <th>Sale Price</th>\n",
       "      <th>Sale Date</th>\n",
       "    </tr>\n",
       "  </thead>\n",
       "  <tbody>\n",
       "    <tr>\n",
       "      <th>0</th>\n",
       "      <td>Shorts</td>\n",
       "      <td>Children</td>\n",
       "      <td>XL</td>\n",
       "      <td>1</td>\n",
       "      <td>27.03</td>\n",
       "      <td>2023-01-01 00:00:00</td>\n",
       "    </tr>\n",
       "    <tr>\n",
       "      <th>1</th>\n",
       "      <td>Jeans</td>\n",
       "      <td>Children</td>\n",
       "      <td>XS</td>\n",
       "      <td>4</td>\n",
       "      <td>56.77</td>\n",
       "      <td>2023-01-01 00:01:00</td>\n",
       "    </tr>\n",
       "    <tr>\n",
       "      <th>2</th>\n",
       "      <td>Skirt</td>\n",
       "      <td>Men</td>\n",
       "      <td>XL</td>\n",
       "      <td>3</td>\n",
       "      <td>38.72</td>\n",
       "      <td>2023-01-01 00:02:00</td>\n",
       "    </tr>\n",
       "    <tr>\n",
       "      <th>3</th>\n",
       "      <td>Jacket</td>\n",
       "      <td>Women</td>\n",
       "      <td>S</td>\n",
       "      <td>1</td>\n",
       "      <td>77.47</td>\n",
       "      <td>2023-01-01 00:03:00</td>\n",
       "    </tr>\n",
       "    <tr>\n",
       "      <th>4</th>\n",
       "      <td>Shorts</td>\n",
       "      <td>Children</td>\n",
       "      <td>L</td>\n",
       "      <td>3</td>\n",
       "      <td>32.21</td>\n",
       "      <td>2023-01-01 00:04:00</td>\n",
       "    </tr>\n",
       "    <tr>\n",
       "      <th>...</th>\n",
       "      <td>...</td>\n",
       "      <td>...</td>\n",
       "      <td>...</td>\n",
       "      <td>...</td>\n",
       "      <td>...</td>\n",
       "      <td>...</td>\n",
       "    </tr>\n",
       "    <tr>\n",
       "      <th>49995</th>\n",
       "      <td>Dress</td>\n",
       "      <td>Children</td>\n",
       "      <td>XS</td>\n",
       "      <td>1</td>\n",
       "      <td>56.65</td>\n",
       "      <td>2023-02-04 17:15:00</td>\n",
       "    </tr>\n",
       "    <tr>\n",
       "      <th>49996</th>\n",
       "      <td>T-Shirt</td>\n",
       "      <td>Women</td>\n",
       "      <td>S</td>\n",
       "      <td>2</td>\n",
       "      <td>22.63</td>\n",
       "      <td>2023-02-04 17:16:00</td>\n",
       "    </tr>\n",
       "    <tr>\n",
       "      <th>49997</th>\n",
       "      <td>Socks</td>\n",
       "      <td>Men</td>\n",
       "      <td>L</td>\n",
       "      <td>4</td>\n",
       "      <td>10.20</td>\n",
       "      <td>2023-02-04 17:17:00</td>\n",
       "    </tr>\n",
       "    <tr>\n",
       "      <th>49998</th>\n",
       "      <td>Sweater</td>\n",
       "      <td>Men</td>\n",
       "      <td>L</td>\n",
       "      <td>3</td>\n",
       "      <td>44.02</td>\n",
       "      <td>2023-02-04 17:18:00</td>\n",
       "    </tr>\n",
       "    <tr>\n",
       "      <th>49999</th>\n",
       "      <td>Sweater</td>\n",
       "      <td>Women</td>\n",
       "      <td>S</td>\n",
       "      <td>1</td>\n",
       "      <td>47.04</td>\n",
       "      <td>2023-02-04 17:19:00</td>\n",
       "    </tr>\n",
       "  </tbody>\n",
       "</table>\n",
       "<p>50000 rows × 6 columns</p>\n",
       "</div>"
      ],
      "text/plain": [
       "       Product  Category Size  Units Sold  Sale Price            Sale Date\n",
       "0       Shorts  Children   XL           1       27.03  2023-01-01 00:00:00\n",
       "1        Jeans  Children   XS           4       56.77  2023-01-01 00:01:00\n",
       "2        Skirt       Men   XL           3       38.72  2023-01-01 00:02:00\n",
       "3       Jacket     Women    S           1       77.47  2023-01-01 00:03:00\n",
       "4       Shorts  Children    L           3       32.21  2023-01-01 00:04:00\n",
       "...        ...       ...  ...         ...         ...                  ...\n",
       "49995    Dress  Children   XS           1       56.65  2023-02-04 17:15:00\n",
       "49996  T-Shirt     Women    S           2       22.63  2023-02-04 17:16:00\n",
       "49997    Socks       Men    L           4       10.20  2023-02-04 17:17:00\n",
       "49998  Sweater       Men    L           3       44.02  2023-02-04 17:18:00\n",
       "49999  Sweater     Women    S           1       47.04  2023-02-04 17:19:00\n",
       "\n",
       "[50000 rows x 6 columns]"
      ]
     },
     "execution_count": 33,
     "metadata": {},
     "output_type": "execute_result"
    }
   ],
   "source": [
    "df = pd.read_csv('../data/processed/tøjfirma_sales_data.csv')\n",
    "df"
   ]
  },
  {
   "cell_type": "code",
   "execution_count": 34,
   "metadata": {},
   "outputs": [],
   "source": [
    "df['Product'] = df['Product'].astype('category')\n",
    "df['Category'] = df['Category'].astype('category')\n",
    "df['Size'] = df['Size'].astype('category')\n",
    "df['Units Sold'] = df['Units Sold'].astype('int')\n",
    "df['Sale Price'] = df['Sale Price'].astype('float')\n",
    "df['Sale Date'] = pd.to_datetime(df['Sale Date'])"
   ]
  },
  {
   "cell_type": "code",
   "execution_count": 35,
   "metadata": {},
   "outputs": [
    {
     "name": "stdout",
     "output_type": "stream",
     "text": [
      "Average sale:         41 DKK\n",
      "Total sales:     2051215 DKK\n"
     ]
    }
   ],
   "source": [
    "average_sale = round(df['Sale Price'].mean())\n",
    "total_sales = round(df['Sale Price'].sum())\n",
    "\n",
    "print(f'Average sale: {average_sale:>10} DKK')\n",
    "print(f'Total sales:  {total_sales:>10} DKK')"
   ]
  },
  {
   "cell_type": "code",
   "execution_count": 36,
   "metadata": {},
   "outputs": [
    {
     "data": {
      "image/png": "[encoded data removed]",
      "text/plain": [
       "<Figure size 640x480 with 1 Axes>"
      ]
     },
     "metadata": {},
     "output_type": "display_data"
    }
   ],
   "source": [
    "products = (\n",
    "    df.groupby('Product', observed=True)['Sale Price'].sum().nlargest(5).reset_index()\n",
    ")\n",
    "\n",
    "product_earnings_plot = sns.barplot(\n",
    "    x='Product',\n",
    "    y='Sale Price',\n",
    "    data=products,\n",
    "    order=products['Product'],\n",
    "    hue='Product',\n",
    "    dodge=False,\n",
    ")\n",
    "\n",
    "product_earnings_plot.set_title('Top 5 products by earnings', pad=20)\n",
    "product_earnings_plot.set_xlabel('Products', labelpad=20)\n",
    "product_earnings_plot.set_ylabel('Earnings', labelpad=20);"
   ]
  }
 ],
 "metadata": {
  "kernelspec": {
   "display_name": ".venv",
   "language": "python",
   "name": "python3"
  },
  "language_info": {
   "codemirror_mode": {
    "name": "ipython",
    "version": 3
   },
   "file_extension": ".py",
   "mimetype": "text/x-python",
   "name": "python",
   "nbconvert_exporter": "python",
   "pygments_lexer": "ipython3",
   "version": "3.9.13"
  }
 },
 "nbformat": 4,
 "nbformat_minor": 2
}
