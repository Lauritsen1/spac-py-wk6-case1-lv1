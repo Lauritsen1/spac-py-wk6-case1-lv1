{
 "cells": [
  {
   "cell_type": "code",
   "execution_count": 1,
   "metadata": {},
   "outputs": [],
   "source": [
    "import pandas as pd"
   ]
  },
  {
   "cell_type": "code",
   "execution_count": 2,
   "metadata": {},
   "outputs": [
    {
     "data": {
      "text/html": [
       "<div>\n",
       "<style scoped>\n",
       "    .dataframe tbody tr th:only-of-type {\n",
       "        vertical-align: middle;\n",
       "    }\n",
       "\n",
       "    .dataframe tbody tr th {\n",
       "        vertical-align: top;\n",
       "    }\n",
       "\n",
       "    .dataframe thead th {\n",
       "        text-align: right;\n",
       "    }\n",
       "</style>\n",
       "<table border=\"1\" class=\"dataframe\">\n",
       "  <thead>\n",
       "    <tr style=\"text-align: right;\">\n",
       "      <th></th>\n",
       "      <th>Product</th>\n",
       "      <th>Category</th>\n",
       "      <th>Size</th>\n",
       "      <th>Units Sold</th>\n",
       "      <th>Sale Price</th>\n",
       "      <th>Sale Date</th>\n",
       "    </tr>\n",
       "  </thead>\n",
       "  <tbody>\n",
       "    <tr>\n",
       "      <th>0</th>\n",
       "      <td>Shorts</td>\n",
       "      <td>Children</td>\n",
       "      <td>XL</td>\n",
       "      <td>1</td>\n",
       "      <td>27.03</td>\n",
       "      <td>2023-01-01 00:00:00</td>\n",
       "    </tr>\n",
       "    <tr>\n",
       "      <th>1</th>\n",
       "      <td>Jeans</td>\n",
       "      <td>Children</td>\n",
       "      <td>XS</td>\n",
       "      <td>4</td>\n",
       "      <td>56.77</td>\n",
       "      <td>2023-01-01 00:01:00</td>\n",
       "    </tr>\n",
       "    <tr>\n",
       "      <th>2</th>\n",
       "      <td>Skirt</td>\n",
       "      <td>Men</td>\n",
       "      <td>XL</td>\n",
       "      <td>3</td>\n",
       "      <td>38.72</td>\n",
       "      <td>2023-01-01 00:02:00</td>\n",
       "    </tr>\n",
       "    <tr>\n",
       "      <th>3</th>\n",
       "      <td>Jacket</td>\n",
       "      <td>Women</td>\n",
       "      <td>S</td>\n",
       "      <td>1</td>\n",
       "      <td>77.47</td>\n",
       "      <td>2023-01-01 00:03:00</td>\n",
       "    </tr>\n",
       "    <tr>\n",
       "      <th>4</th>\n",
       "      <td>Shorts</td>\n",
       "      <td>Children</td>\n",
       "      <td>L</td>\n",
       "      <td>3</td>\n",
       "      <td>32.21</td>\n",
       "      <td>2023-01-01 00:04:00</td>\n",
       "    </tr>\n",
       "    <tr>\n",
       "      <th>5</th>\n",
       "      <td>Hat</td>\n",
       "      <td>Men</td>\n",
       "      <td>XL</td>\n",
       "      <td>3</td>\n",
       "      <td>15.94</td>\n",
       "      <td>2023-01-01 00:05:00</td>\n",
       "    </tr>\n",
       "    <tr>\n",
       "      <th>6</th>\n",
       "      <td>Sweater</td>\n",
       "      <td>Women</td>\n",
       "      <td>XL</td>\n",
       "      <td>3</td>\n",
       "      <td>42.48</td>\n",
       "      <td>2023-01-01 00:06:00</td>\n",
       "    </tr>\n",
       "    <tr>\n",
       "      <th>7</th>\n",
       "      <td>Shorts</td>\n",
       "      <td>Women</td>\n",
       "      <td>XXL</td>\n",
       "      <td>4</td>\n",
       "      <td>33.34</td>\n",
       "      <td>2023-01-01 00:07:00</td>\n",
       "    </tr>\n",
       "    <tr>\n",
       "      <th>8</th>\n",
       "      <td>Skirt</td>\n",
       "      <td>Women</td>\n",
       "      <td>XS</td>\n",
       "      <td>4</td>\n",
       "      <td>38.29</td>\n",
       "      <td>2023-01-01 00:08:00</td>\n",
       "    </tr>\n",
       "    <tr>\n",
       "      <th>9</th>\n",
       "      <td>Jacket</td>\n",
       "      <td>Men</td>\n",
       "      <td>S</td>\n",
       "      <td>3</td>\n",
       "      <td>77.72</td>\n",
       "      <td>2023-01-01 00:09:00</td>\n",
       "    </tr>\n",
       "  </tbody>\n",
       "</table>\n",
       "</div>"
      ],
      "text/plain": [
       "   Product  Category Size  Units Sold  Sale Price            Sale Date\n",
       "0   Shorts  Children   XL           1       27.03  2023-01-01 00:00:00\n",
       "1    Jeans  Children   XS           4       56.77  2023-01-01 00:01:00\n",
       "2    Skirt       Men   XL           3       38.72  2023-01-01 00:02:00\n",
       "3   Jacket     Women    S           1       77.47  2023-01-01 00:03:00\n",
       "4   Shorts  Children    L           3       32.21  2023-01-01 00:04:00\n",
       "5      Hat       Men   XL           3       15.94  2023-01-01 00:05:00\n",
       "6  Sweater     Women   XL           3       42.48  2023-01-01 00:06:00\n",
       "7   Shorts     Women  XXL           4       33.34  2023-01-01 00:07:00\n",
       "8    Skirt     Women   XS           4       38.29  2023-01-01 00:08:00\n",
       "9   Jacket       Men    S           3       77.72  2023-01-01 00:09:00"
      ]
     },
     "execution_count": 2,
     "metadata": {},
     "output_type": "execute_result"
    }
   ],
   "source": [
    "df = pd.read_csv('../data/processed/tøjfirma_sales_data.csv')\n",
    "df.head(10)"
   ]
  },
  {
   "cell_type": "code",
   "execution_count": 3,
   "metadata": {},
   "outputs": [],
   "source": [
    "df['Product'] = df['Product'].astype('category')\n",
    "df['Category'] = df['Category'].astype('category')\n",
    "df['Size'] = df['Size'].astype('category')\n",
    "df['Units Sold'] = df['Units Sold'].astype('int')\n",
    "df['Sale Price'] = df['Sale Price'].astype('float')\n",
    "df['Sale Date'] = pd.to_datetime(df['Sale Date'])"
   ]
  },
  {
   "cell_type": "code",
   "execution_count": 4,
   "metadata": {},
   "outputs": [
    {
     "name": "stdout",
     "output_type": "stream",
     "text": [
      "Average sale:         41 DKK\n",
      "Total sales:     2051215 DKK\n"
     ]
    }
   ],
   "source": [
    "average_sale = round(df['Sale Price'].mean())\n",
    "total_sales = round(df['Sale Price'].sum())\n",
    "\n",
    "print(f'Average sale: {average_sale:>10} DKK')\n",
    "print(f'Total sales:  {total_sales:>10} DKK')"
   ]
  }
 ],
 "metadata": {
  "kernelspec": {
   "display_name": ".venv",
   "language": "python",
   "name": "python3"
  },
  "language_info": {
   "codemirror_mode": {
    "name": "ipython",
    "version": 3
   },
   "file_extension": ".py",
   "mimetype": "text/x-python",
   "name": "python",
   "nbconvert_exporter": "python",
   "pygments_lexer": "ipython3",
   "version": "3.9.13"
  }
 },
 "nbformat": 4,
 "nbformat_minor": 2
}
